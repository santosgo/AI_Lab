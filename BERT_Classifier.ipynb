{
 "cells": [
  {
   "cell_type": "markdown",
   "metadata": {},
   "source": [
    "# BERT Research / Creating BERT classifier"
   ]
  },
  {
   "cell_type": "markdown",
   "metadata": {},
   "source": [
    "## 1. Load some pre-trained models"
   ]
  },
  {
   "cell_type": "markdown",
   "metadata": {},
   "source": [
    "Link to BERT's github containing pre-trained models for BERT: https://github.com/google-research/bert"
   ]
  },
  {
   "cell_type": "code",
   "execution_count": 1,
   "metadata": {},
   "outputs": [],
   "source": [
    "import torch"
   ]
  },
  {
   "cell_type": "code",
   "execution_count": 2,
   "metadata": {},
   "outputs": [],
   "source": [
    "from pytorch_pretrained_bert import BertTokenizer"
   ]
  },
  {
   "cell_type": "code",
   "execution_count": 3,
   "metadata": {},
   "outputs": [],
   "source": [
    "tokenizer = BertTokenizer.from_pretrained('bert-base-uncased')"
   ]
  },
  {
   "cell_type": "code",
   "execution_count": 4,
   "metadata": {},
   "outputs": [
    {
     "name": "stderr",
     "output_type": "stream",
     "text": [
      "The pre-trained model you are loading is a cased model but you have not set `do_lower_case` to False. We are setting `do_lower_case=False` for you but you may want to check this behavior.\n"
     ]
    }
   ],
   "source": [
    "tokenizerM = BertTokenizer.from_pretrained('bert-base-multilingual-cased')"
   ]
  },
  {
   "cell_type": "code",
   "execution_count": 5,
   "metadata": {},
   "outputs": [],
   "source": [
    "tokenizerP = BertTokenizer.from_pretrained('bert-base-portuguese-cased')"
   ]
  },
  {
   "cell_type": "markdown",
   "metadata": {},
   "source": [
    "## 2. Inspect vocabularies"
   ]
  },
  {
   "cell_type": "code",
   "execution_count": 6,
   "metadata": {},
   "outputs": [
    {
     "data": {
      "text/plain": [
       "'TextFiles\\\\vocab.txt'"
      ]
     },
     "execution_count": 6,
     "metadata": {},
     "output_type": "execute_result"
    }
   ],
   "source": [
    "tokenizer.save_vocabulary('TextFiles')"
   ]
  },
  {
   "cell_type": "code",
   "execution_count": 7,
   "metadata": {},
   "outputs": [
    {
     "data": {
      "text/plain": [
       "30522"
      ]
     },
     "execution_count": 7,
     "metadata": {},
     "output_type": "execute_result"
    }
   ],
   "source": [
    "len(tokenizer.vocab)"
   ]
  },
  {
   "cell_type": "code",
   "execution_count": 8,
   "metadata": {},
   "outputs": [
    {
     "data": {
      "text/plain": [
       "6613"
      ]
     },
     "execution_count": 8,
     "metadata": {},
     "output_type": "execute_result"
    }
   ],
   "source": [
    "tokenizer.vocab.get('brooklyn')"
   ]
  },
  {
   "cell_type": "code",
   "execution_count": 9,
   "metadata": {},
   "outputs": [
    {
     "data": {
      "text/plain": [
       "['we',\n",
       " \"'\",\n",
       " 're',\n",
       " 'going',\n",
       " 'to',\n",
       " 'brooklyn',\n",
       " 'on',\n",
       " 'october',\n",
       " '27',\n",
       " 'to',\n",
       " 'visit',\n",
       " 'microsoft',\n",
       " 'in',\n",
       " 'delta',\n",
       " 'airlines',\n",
       " 'flight',\n",
       " 'de',\n",
       " '##34',\n",
       " '##52',\n",
       " '.']"
      ]
     },
     "execution_count": 9,
     "metadata": {},
     "output_type": "execute_result"
    }
   ],
   "source": [
    "tokenizer.tokenize(u\"We're going to Brooklyn on October 27 to visit Microsoft in Delta Airlines flight DE3452.\")"
   ]
  },
  {
   "cell_type": "code",
   "execution_count": 10,
   "metadata": {},
   "outputs": [
    {
     "data": {
      "text/plain": [
       "'TextFiles\\\\vocab.txt'"
      ]
     },
     "execution_count": 10,
     "metadata": {},
     "output_type": "execute_result"
    }
   ],
   "source": [
    "tokenizerM.save_vocabulary('TextFiles')"
   ]
  },
  {
   "cell_type": "code",
   "execution_count": 11,
   "metadata": {},
   "outputs": [
    {
     "data": {
      "text/plain": [
       "119547"
      ]
     },
     "execution_count": 11,
     "metadata": {},
     "output_type": "execute_result"
    }
   ],
   "source": [
    "len(tokenizerM.vocab)"
   ]
  },
  {
   "cell_type": "code",
   "execution_count": 12,
   "metadata": {},
   "outputs": [
    {
     "data": {
      "text/plain": [
       "'TextFiles\\\\vocab.txt'"
      ]
     },
     "execution_count": 12,
     "metadata": {},
     "output_type": "execute_result"
    }
   ],
   "source": [
    "tokenizerP.save_vocabulary('TextFiles')"
   ]
  },
  {
   "cell_type": "code",
   "execution_count": 13,
   "metadata": {},
   "outputs": [
    {
     "name": "stdout",
     "output_type": "stream",
     "text": [
      "O meu nome existe!\n"
     ]
    }
   ],
   "source": [
    "for token in tokenizerP.vocab.keys():\n",
    "    if token == 'Gonçalo':\n",
    "        print('O meu nome existe!')\n",
    "        break\n",
    "else:\n",
    "    print('Tough luck...')"
   ]
  },
  {
   "cell_type": "code",
   "execution_count": 14,
   "metadata": {},
   "outputs": [
    {
     "data": {
      "text/plain": [
       "2995"
      ]
     },
     "execution_count": 14,
     "metadata": {},
     "output_type": "execute_result"
    }
   ],
   "source": [
    "tokenizerP.vocab.get('Santos')"
   ]
  },
  {
   "cell_type": "markdown",
   "metadata": {},
   "source": [
    "## 3. Creating a classifier with Bert"
   ]
  },
  {
   "cell_type": "markdown",
   "metadata": {},
   "source": [
    "#### Making use of the GPU"
   ]
  },
  {
   "cell_type": "code",
   "execution_count": 15,
   "metadata": {},
   "outputs": [],
   "source": [
    "import tensorflow as tf"
   ]
  },
  {
   "cell_type": "code",
   "execution_count": 16,
   "metadata": {},
   "outputs": [
    {
     "name": "stdout",
     "output_type": "stream",
     "text": [
      "\n"
     ]
    }
   ],
   "source": [
    "print(tf.test.gpu_device_name())"
   ]
  },
  {
   "cell_type": "code",
   "execution_count": 17,
   "metadata": {},
   "outputs": [
    {
     "name": "stdout",
     "output_type": "stream",
     "text": [
      "True\n"
     ]
    },
    {
     "data": {
      "text/plain": [
       "'GeForce 940MX'"
      ]
     },
     "execution_count": 17,
     "metadata": {},
     "output_type": "execute_result"
    }
   ],
   "source": [
    "print(torch.cuda.is_available())\n",
    "torch.cuda.get_device_name()"
   ]
  },
  {
   "cell_type": "code",
   "execution_count": 18,
   "metadata": {},
   "outputs": [],
   "source": [
    "device = torch.device('cuda')"
   ]
  },
  {
   "cell_type": "markdown",
   "metadata": {},
   "source": [
    "#### Installing the Hugging Face library Transformers"
   ]
  },
  {
   "cell_type": "code",
   "execution_count": 19,
   "metadata": {},
   "outputs": [],
   "source": [
    "#!pip install transformers"
   ]
  },
  {
   "cell_type": "markdown",
   "metadata": {},
   "source": [
    "#### Downloading CoLA  dataset\n",
    "COLA stands for Corpus of Linguistic Acceptability\n",
    "more details in https://nyu-mll.github.io/CoLA/"
   ]
  },
  {
   "cell_type": "code",
   "execution_count": 20,
   "metadata": {},
   "outputs": [],
   "source": [
    "#!pip install wget"
   ]
  },
  {
   "cell_type": "code",
   "execution_count": 21,
   "metadata": {},
   "outputs": [
    {
     "name": "stdout",
     "output_type": "stream",
     "text": [
      "Donwloading the CoLA dataset...\n",
      "File already downloaded\n"
     ]
    }
   ],
   "source": [
    "import wget\n",
    "import os\n",
    "\n",
    "print('Donwloading the CoLA dataset...')\n",
    "\n",
    "url = 'https://nyu-mll.github.io/CoLA/cola_public_1.1.zip'\n",
    "\n",
    "if not os.path.exists('./cola_public_1.1.zip'):\n",
    "    wget.download(url,'./cola_public_1.1.zip')\n",
    "else:\n",
    "    print('File already downloaded')"
   ]
  },
  {
   "cell_type": "code",
   "execution_count": 22,
   "metadata": {},
   "outputs": [
    {
     "name": "stdout",
     "output_type": "stream",
     "text": [
      "File already unzipped\n"
     ]
    }
   ],
   "source": [
    "# Unzip dataset\n",
    "import zipfile\n",
    "if not os.path.exists('./cola_public/'):\n",
    "    with zipfile.ZipFile('./cola_public_1.1.zip', 'r') as zip_f:\n",
    "        zip_f.extractall()\n",
    "else:\n",
    "    print('File already unzipped')"
   ]
  },
  {
   "cell_type": "markdown",
   "metadata": {},
   "source": [
    "#### Accessing the CoLA data set"
   ]
  },
  {
   "cell_type": "code",
   "execution_count": 23,
   "metadata": {},
   "outputs": [],
   "source": [
    "import pandas as pd\n",
    "df = pd.read_csv('./cola_public/raw/in_domain_train.tsv', sep='\\t', header=None, names=['sentence_source','label','label_notes','sentence'])"
   ]
  },
  {
   "cell_type": "code",
   "execution_count": 24,
   "metadata": {},
   "outputs": [
    {
     "data": {
      "text/html": [
       "<div>\n",
       "<style scoped>\n",
       "    .dataframe tbody tr th:only-of-type {\n",
       "        vertical-align: middle;\n",
       "    }\n",
       "\n",
       "    .dataframe tbody tr th {\n",
       "        vertical-align: top;\n",
       "    }\n",
       "\n",
       "    .dataframe thead th {\n",
       "        text-align: right;\n",
       "    }\n",
       "</style>\n",
       "<table border=\"1\" class=\"dataframe\">\n",
       "  <thead>\n",
       "    <tr style=\"text-align: right;\">\n",
       "      <th></th>\n",
       "      <th>sentence_source</th>\n",
       "      <th>label</th>\n",
       "      <th>label_notes</th>\n",
       "      <th>sentence</th>\n",
       "    </tr>\n",
       "  </thead>\n",
       "  <tbody>\n",
       "    <tr>\n",
       "      <th>6923</th>\n",
       "      <td>m_02</td>\n",
       "      <td>1</td>\n",
       "      <td>NaN</td>\n",
       "      <td>Alan made the loaf with strong white flour.</td>\n",
       "    </tr>\n",
       "    <tr>\n",
       "      <th>5496</th>\n",
       "      <td>b_73</td>\n",
       "      <td>1</td>\n",
       "      <td>NaN</td>\n",
       "      <td>Hilda is such a scholar as you were speaking o...</td>\n",
       "    </tr>\n",
       "    <tr>\n",
       "      <th>5234</th>\n",
       "      <td>kl93</td>\n",
       "      <td>1</td>\n",
       "      <td>NaN</td>\n",
       "      <td>He bought a Honda.</td>\n",
       "    </tr>\n",
       "    <tr>\n",
       "      <th>3321</th>\n",
       "      <td>l-93</td>\n",
       "      <td>1</td>\n",
       "      <td>NaN</td>\n",
       "      <td>I herded the cattle.</td>\n",
       "    </tr>\n",
       "    <tr>\n",
       "      <th>8049</th>\n",
       "      <td>ad03</td>\n",
       "      <td>0</td>\n",
       "      <td>*</td>\n",
       "      <td>Aphrodite quickly may free the animals</td>\n",
       "    </tr>\n",
       "    <tr>\n",
       "      <th>7084</th>\n",
       "      <td>sgww85</td>\n",
       "      <td>0</td>\n",
       "      <td>*</td>\n",
       "      <td>The students and Professor Swansong is meeting...</td>\n",
       "    </tr>\n",
       "    <tr>\n",
       "      <th>6123</th>\n",
       "      <td>c_13</td>\n",
       "      <td>0</td>\n",
       "      <td>*</td>\n",
       "      <td>She was kissed him.</td>\n",
       "    </tr>\n",
       "    <tr>\n",
       "      <th>6889</th>\n",
       "      <td>m_02</td>\n",
       "      <td>1</td>\n",
       "      <td>NaN</td>\n",
       "      <td>The baby is heavy.</td>\n",
       "    </tr>\n",
       "    <tr>\n",
       "      <th>4038</th>\n",
       "      <td>ks08</td>\n",
       "      <td>1</td>\n",
       "      <td>NaN</td>\n",
       "      <td>Joe warned the class that the exam would be di...</td>\n",
       "    </tr>\n",
       "    <tr>\n",
       "      <th>4425</th>\n",
       "      <td>ks08</td>\n",
       "      <td>1</td>\n",
       "      <td>NaN</td>\n",
       "      <td>John is running to the car.</td>\n",
       "    </tr>\n",
       "  </tbody>\n",
       "</table>\n",
       "</div>"
      ],
      "text/plain": [
       "     sentence_source  label label_notes  \\\n",
       "6923            m_02      1         NaN   \n",
       "5496            b_73      1         NaN   \n",
       "5234            kl93      1         NaN   \n",
       "3321            l-93      1         NaN   \n",
       "8049            ad03      0           *   \n",
       "7084          sgww85      0           *   \n",
       "6123            c_13      0           *   \n",
       "6889            m_02      1         NaN   \n",
       "4038            ks08      1         NaN   \n",
       "4425            ks08      1         NaN   \n",
       "\n",
       "                                               sentence  \n",
       "6923        Alan made the loaf with strong white flour.  \n",
       "5496  Hilda is such a scholar as you were speaking o...  \n",
       "5234                                 He bought a Honda.  \n",
       "3321                               I herded the cattle.  \n",
       "8049             Aphrodite quickly may free the animals  \n",
       "7084  The students and Professor Swansong is meeting...  \n",
       "6123                                She was kissed him.  \n",
       "6889                                 The baby is heavy.  \n",
       "4038  Joe warned the class that the exam would be di...  \n",
       "4425                        John is running to the car.  "
      ]
     },
     "execution_count": 24,
     "metadata": {},
     "output_type": "execute_result"
    }
   ],
   "source": [
    "df.sample(10)"
   ]
  },
  {
   "cell_type": "code",
   "execution_count": 25,
   "metadata": {},
   "outputs": [],
   "source": [
    "# Pass sentences and labels to numpy arrays\n",
    "sentences = df.sentence.values\n",
    "labels = df.label.values"
   ]
  },
  {
   "cell_type": "markdown",
   "metadata": {},
   "source": [
    "#### Tokenization and input formatting"
   ]
  },
  {
   "cell_type": "markdown",
   "metadata": {},
   "source": [
    "The tokenizer.encode function will perform 3 functions which are necessary for the BERT classifier:\n",
    "<br>&nbsp;&nbsp;1) split each sentence into tokens\n",
    "<br>&nbsp;&nbsp;2) add [CLS] and [SEC] tokens to the beginning and end of each sentence respectively\n",
    "<br>&nbsp;&nbsp;3) map the tokens to their IDs"
   ]
  },
  {
   "cell_type": "code",
   "execution_count": 26,
   "metadata": {},
   "outputs": [],
   "source": [
    "# import Bert tokenizer from the Hugging Face library transformers, not from Pytorch as in the top of this notebook\n",
    "from transformers import BertTokenizer as T_BertTokenizer"
   ]
  },
  {
   "cell_type": "code",
   "execution_count": 27,
   "metadata": {},
   "outputs": [],
   "source": [
    "T_tokenizer = T_BertTokenizer.from_pretrained('bert-base-uncased')"
   ]
  },
  {
   "cell_type": "code",
   "execution_count": 28,
   "metadata": {},
   "outputs": [
    {
     "name": "stdout",
     "output_type": "stream",
     "text": [
      "Original: Our friends won't buy this analysis, let alone the next one we propose.\n",
      "Tokenized: ['our', 'friends', 'won', \"'\", 't', 'buy', 'this', 'analysis', ',', 'let', 'alone', 'the', 'next', 'one', 'we', 'propose', '.']\n",
      "Encoded: [101, 2256, 2814, 2180, 1005, 1056, 4965, 2023, 4106, 1010, 2292, 2894, 1996, 2279, 2028, 2057, 16599, 1012, 102]\n"
     ]
    }
   ],
   "source": [
    "print(f\"Original: {sentences[0]}\")\n",
    "print(f\"Tokenized: {T_tokenizer.tokenize(sentences[0])}\")\n",
    "print(f\"Encoded: {T_tokenizer.encode(sentences[0])}\")"
   ]
  },
  {
   "cell_type": "code",
   "execution_count": 29,
   "metadata": {},
   "outputs": [],
   "source": [
    "input_ids=[]\n",
    "for sent in sentences:\n",
    "    encoded_sent = T_tokenizer.encode(sent,add_special_tokens=True,max_length=64,pad_to_max_length=True)\n",
    "    input_ids.append(encoded_sent)"
   ]
  },
  {
   "cell_type": "code",
   "execution_count": 30,
   "metadata": {},
   "outputs": [],
   "source": [
    "# Creating attention masks - they have 1 for each word and 0 for padding\n",
    "attention_masks = []\n",
    "for sent in input_ids:\n",
    "    att_mask = [int(token_id > 0) for token_id in sent]\n",
    "    attention_masks.append(att_mask)"
   ]
  },
  {
   "cell_type": "markdown",
   "metadata": {},
   "source": [
    "#### Creating training and test set"
   ]
  },
  {
   "cell_type": "code",
   "execution_count": 31,
   "metadata": {},
   "outputs": [],
   "source": [
    "from sklearn.model_selection import train_test_split"
   ]
  },
  {
   "cell_type": "code",
   "execution_count": 32,
   "metadata": {},
   "outputs": [],
   "source": [
    "train_inputs, validation_inputs, train_labels, validation_labels = train_test_split(input_ids,labels,random_state=2018,test_size=0.1)"
   ]
  },
  {
   "cell_type": "code",
   "execution_count": 33,
   "metadata": {},
   "outputs": [],
   "source": [
    "train_masks, validation_masks, _, _ = train_test_split(attention_masks,labels,random_state=2018,test_size=0.1)"
   ]
  },
  {
   "cell_type": "code",
   "execution_count": 34,
   "metadata": {},
   "outputs": [],
   "source": [
    "# Convert into torch tensors\n",
    "train_inputs = torch.tensor(train_inputs)\n",
    "validation_inputs = torch.tensor(validation_inputs)\n",
    "train_labels = torch.tensor(train_labels)\n",
    "validation_labels = torch.tensor(validation_labels)\n",
    "train_masks = torch.tensor(train_masks)\n",
    "validation_masks = torch.tensor(validation_masks)"
   ]
  },
  {
   "cell_type": "markdown",
   "metadata": {},
   "source": [
    "Setting up DataLoader from Pytorch to train in batches for better memory use (in this case not needed, so just for future reference)"
   ]
  },
  {
   "cell_type": "code",
   "execution_count": 35,
   "metadata": {},
   "outputs": [],
   "source": [
    "from torch.utils.data import TensorDataset, DataLoader, RandomSampler, SequentialSampler\n",
    "batch_size = 16\n",
    "\n",
    "train_data = TensorDataset(train_inputs,train_masks,train_labels)\n",
    "train_sampler = RandomSampler(train_data)\n",
    "train_dataloader = DataLoader(train_data, sampler=train_sampler, batch_size=batch_size)\n",
    "\n",
    "validation_data = TensorDataset(validation_inputs,validation_masks,validation_labels)\n",
    "validation_sampler = SequentialSampler(validation_data)\n",
    "validation_dataloader = DataLoader(validation_data,sampler=validation_sampler, batch_size=batch_size)"
   ]
  },
  {
   "cell_type": "markdown",
   "metadata": {},
   "source": [
    "#### Training the sequence classification model"
   ]
  },
  {
   "cell_type": "code",
   "execution_count": 36,
   "metadata": {},
   "outputs": [],
   "source": [
    "from transformers import BertForSequenceClassification, AdamW, BertConfig"
   ]
  },
  {
   "cell_type": "code",
   "execution_count": 37,
   "metadata": {},
   "outputs": [],
   "source": [
    "classifier = BertForSequenceClassification.from_pretrained('bert-base-uncased',\n",
    "                                                           num_labels=2,\n",
    "                                                           output_attentions=False,\n",
    "                                                           output_hidden_states=False)"
   ]
  },
  {
   "cell_type": "code",
   "execution_count": 38,
   "metadata": {},
   "outputs": [
    {
     "data": {
      "text/plain": [
       "BertForSequenceClassification(\n",
       "  (bert): BertModel(\n",
       "    (embeddings): BertEmbeddings(\n",
       "      (word_embeddings): Embedding(30522, 768, padding_idx=0)\n",
       "      (position_embeddings): Embedding(512, 768)\n",
       "      (token_type_embeddings): Embedding(2, 768)\n",
       "      (LayerNorm): LayerNorm((768,), eps=1e-12, elementwise_affine=True)\n",
       "      (dropout): Dropout(p=0.1, inplace=False)\n",
       "    )\n",
       "    (encoder): BertEncoder(\n",
       "      (layer): ModuleList(\n",
       "        (0): BertLayer(\n",
       "          (attention): BertAttention(\n",
       "            (self): BertSelfAttention(\n",
       "              (query): Linear(in_features=768, out_features=768, bias=True)\n",
       "              (key): Linear(in_features=768, out_features=768, bias=True)\n",
       "              (value): Linear(in_features=768, out_features=768, bias=True)\n",
       "              (dropout): Dropout(p=0.1, inplace=False)\n",
       "            )\n",
       "            (output): BertSelfOutput(\n",
       "              (dense): Linear(in_features=768, out_features=768, bias=True)\n",
       "              (LayerNorm): LayerNorm((768,), eps=1e-12, elementwise_affine=True)\n",
       "              (dropout): Dropout(p=0.1, inplace=False)\n",
       "            )\n",
       "          )\n",
       "          (intermediate): BertIntermediate(\n",
       "            (dense): Linear(in_features=768, out_features=3072, bias=True)\n",
       "          )\n",
       "          (output): BertOutput(\n",
       "            (dense): Linear(in_features=3072, out_features=768, bias=True)\n",
       "            (LayerNorm): LayerNorm((768,), eps=1e-12, elementwise_affine=True)\n",
       "            (dropout): Dropout(p=0.1, inplace=False)\n",
       "          )\n",
       "        )\n",
       "        (1): BertLayer(\n",
       "          (attention): BertAttention(\n",
       "            (self): BertSelfAttention(\n",
       "              (query): Linear(in_features=768, out_features=768, bias=True)\n",
       "              (key): Linear(in_features=768, out_features=768, bias=True)\n",
       "              (value): Linear(in_features=768, out_features=768, bias=True)\n",
       "              (dropout): Dropout(p=0.1, inplace=False)\n",
       "            )\n",
       "            (output): BertSelfOutput(\n",
       "              (dense): Linear(in_features=768, out_features=768, bias=True)\n",
       "              (LayerNorm): LayerNorm((768,), eps=1e-12, elementwise_affine=True)\n",
       "              (dropout): Dropout(p=0.1, inplace=False)\n",
       "            )\n",
       "          )\n",
       "          (intermediate): BertIntermediate(\n",
       "            (dense): Linear(in_features=768, out_features=3072, bias=True)\n",
       "          )\n",
       "          (output): BertOutput(\n",
       "            (dense): Linear(in_features=3072, out_features=768, bias=True)\n",
       "            (LayerNorm): LayerNorm((768,), eps=1e-12, elementwise_affine=True)\n",
       "            (dropout): Dropout(p=0.1, inplace=False)\n",
       "          )\n",
       "        )\n",
       "        (2): BertLayer(\n",
       "          (attention): BertAttention(\n",
       "            (self): BertSelfAttention(\n",
       "              (query): Linear(in_features=768, out_features=768, bias=True)\n",
       "              (key): Linear(in_features=768, out_features=768, bias=True)\n",
       "              (value): Linear(in_features=768, out_features=768, bias=True)\n",
       "              (dropout): Dropout(p=0.1, inplace=False)\n",
       "            )\n",
       "            (output): BertSelfOutput(\n",
       "              (dense): Linear(in_features=768, out_features=768, bias=True)\n",
       "              (LayerNorm): LayerNorm((768,), eps=1e-12, elementwise_affine=True)\n",
       "              (dropout): Dropout(p=0.1, inplace=False)\n",
       "            )\n",
       "          )\n",
       "          (intermediate): BertIntermediate(\n",
       "            (dense): Linear(in_features=768, out_features=3072, bias=True)\n",
       "          )\n",
       "          (output): BertOutput(\n",
       "            (dense): Linear(in_features=3072, out_features=768, bias=True)\n",
       "            (LayerNorm): LayerNorm((768,), eps=1e-12, elementwise_affine=True)\n",
       "            (dropout): Dropout(p=0.1, inplace=False)\n",
       "          )\n",
       "        )\n",
       "        (3): BertLayer(\n",
       "          (attention): BertAttention(\n",
       "            (self): BertSelfAttention(\n",
       "              (query): Linear(in_features=768, out_features=768, bias=True)\n",
       "              (key): Linear(in_features=768, out_features=768, bias=True)\n",
       "              (value): Linear(in_features=768, out_features=768, bias=True)\n",
       "              (dropout): Dropout(p=0.1, inplace=False)\n",
       "            )\n",
       "            (output): BertSelfOutput(\n",
       "              (dense): Linear(in_features=768, out_features=768, bias=True)\n",
       "              (LayerNorm): LayerNorm((768,), eps=1e-12, elementwise_affine=True)\n",
       "              (dropout): Dropout(p=0.1, inplace=False)\n",
       "            )\n",
       "          )\n",
       "          (intermediate): BertIntermediate(\n",
       "            (dense): Linear(in_features=768, out_features=3072, bias=True)\n",
       "          )\n",
       "          (output): BertOutput(\n",
       "            (dense): Linear(in_features=3072, out_features=768, bias=True)\n",
       "            (LayerNorm): LayerNorm((768,), eps=1e-12, elementwise_affine=True)\n",
       "            (dropout): Dropout(p=0.1, inplace=False)\n",
       "          )\n",
       "        )\n",
       "        (4): BertLayer(\n",
       "          (attention): BertAttention(\n",
       "            (self): BertSelfAttention(\n",
       "              (query): Linear(in_features=768, out_features=768, bias=True)\n",
       "              (key): Linear(in_features=768, out_features=768, bias=True)\n",
       "              (value): Linear(in_features=768, out_features=768, bias=True)\n",
       "              (dropout): Dropout(p=0.1, inplace=False)\n",
       "            )\n",
       "            (output): BertSelfOutput(\n",
       "              (dense): Linear(in_features=768, out_features=768, bias=True)\n",
       "              (LayerNorm): LayerNorm((768,), eps=1e-12, elementwise_affine=True)\n",
       "              (dropout): Dropout(p=0.1, inplace=False)\n",
       "            )\n",
       "          )\n",
       "          (intermediate): BertIntermediate(\n",
       "            (dense): Linear(in_features=768, out_features=3072, bias=True)\n",
       "          )\n",
       "          (output): BertOutput(\n",
       "            (dense): Linear(in_features=3072, out_features=768, bias=True)\n",
       "            (LayerNorm): LayerNorm((768,), eps=1e-12, elementwise_affine=True)\n",
       "            (dropout): Dropout(p=0.1, inplace=False)\n",
       "          )\n",
       "        )\n",
       "        (5): BertLayer(\n",
       "          (attention): BertAttention(\n",
       "            (self): BertSelfAttention(\n",
       "              (query): Linear(in_features=768, out_features=768, bias=True)\n",
       "              (key): Linear(in_features=768, out_features=768, bias=True)\n",
       "              (value): Linear(in_features=768, out_features=768, bias=True)\n",
       "              (dropout): Dropout(p=0.1, inplace=False)\n",
       "            )\n",
       "            (output): BertSelfOutput(\n",
       "              (dense): Linear(in_features=768, out_features=768, bias=True)\n",
       "              (LayerNorm): LayerNorm((768,), eps=1e-12, elementwise_affine=True)\n",
       "              (dropout): Dropout(p=0.1, inplace=False)\n",
       "            )\n",
       "          )\n",
       "          (intermediate): BertIntermediate(\n",
       "            (dense): Linear(in_features=768, out_features=3072, bias=True)\n",
       "          )\n",
       "          (output): BertOutput(\n",
       "            (dense): Linear(in_features=3072, out_features=768, bias=True)\n",
       "            (LayerNorm): LayerNorm((768,), eps=1e-12, elementwise_affine=True)\n",
       "            (dropout): Dropout(p=0.1, inplace=False)\n",
       "          )\n",
       "        )\n",
       "        (6): BertLayer(\n",
       "          (attention): BertAttention(\n",
       "            (self): BertSelfAttention(\n",
       "              (query): Linear(in_features=768, out_features=768, bias=True)\n",
       "              (key): Linear(in_features=768, out_features=768, bias=True)\n",
       "              (value): Linear(in_features=768, out_features=768, bias=True)\n",
       "              (dropout): Dropout(p=0.1, inplace=False)\n",
       "            )\n",
       "            (output): BertSelfOutput(\n",
       "              (dense): Linear(in_features=768, out_features=768, bias=True)\n",
       "              (LayerNorm): LayerNorm((768,), eps=1e-12, elementwise_affine=True)\n",
       "              (dropout): Dropout(p=0.1, inplace=False)\n",
       "            )\n",
       "          )\n",
       "          (intermediate): BertIntermediate(\n",
       "            (dense): Linear(in_features=768, out_features=3072, bias=True)\n",
       "          )\n",
       "          (output): BertOutput(\n",
       "            (dense): Linear(in_features=3072, out_features=768, bias=True)\n",
       "            (LayerNorm): LayerNorm((768,), eps=1e-12, elementwise_affine=True)\n",
       "            (dropout): Dropout(p=0.1, inplace=False)\n",
       "          )\n",
       "        )\n",
       "        (7): BertLayer(\n",
       "          (attention): BertAttention(\n",
       "            (self): BertSelfAttention(\n",
       "              (query): Linear(in_features=768, out_features=768, bias=True)\n",
       "              (key): Linear(in_features=768, out_features=768, bias=True)\n",
       "              (value): Linear(in_features=768, out_features=768, bias=True)\n",
       "              (dropout): Dropout(p=0.1, inplace=False)\n",
       "            )\n",
       "            (output): BertSelfOutput(\n",
       "              (dense): Linear(in_features=768, out_features=768, bias=True)\n",
       "              (LayerNorm): LayerNorm((768,), eps=1e-12, elementwise_affine=True)\n",
       "              (dropout): Dropout(p=0.1, inplace=False)\n",
       "            )\n",
       "          )\n",
       "          (intermediate): BertIntermediate(\n",
       "            (dense): Linear(in_features=768, out_features=3072, bias=True)\n",
       "          )\n",
       "          (output): BertOutput(\n",
       "            (dense): Linear(in_features=3072, out_features=768, bias=True)\n",
       "            (LayerNorm): LayerNorm((768,), eps=1e-12, elementwise_affine=True)\n",
       "            (dropout): Dropout(p=0.1, inplace=False)\n",
       "          )\n",
       "        )\n",
       "        (8): BertLayer(\n",
       "          (attention): BertAttention(\n",
       "            (self): BertSelfAttention(\n",
       "              (query): Linear(in_features=768, out_features=768, bias=True)\n",
       "              (key): Linear(in_features=768, out_features=768, bias=True)\n",
       "              (value): Linear(in_features=768, out_features=768, bias=True)\n",
       "              (dropout): Dropout(p=0.1, inplace=False)\n",
       "            )\n",
       "            (output): BertSelfOutput(\n",
       "              (dense): Linear(in_features=768, out_features=768, bias=True)\n",
       "              (LayerNorm): LayerNorm((768,), eps=1e-12, elementwise_affine=True)\n",
       "              (dropout): Dropout(p=0.1, inplace=False)\n",
       "            )\n",
       "          )\n",
       "          (intermediate): BertIntermediate(\n",
       "            (dense): Linear(in_features=768, out_features=3072, bias=True)\n",
       "          )\n",
       "          (output): BertOutput(\n",
       "            (dense): Linear(in_features=3072, out_features=768, bias=True)\n",
       "            (LayerNorm): LayerNorm((768,), eps=1e-12, elementwise_affine=True)\n",
       "            (dropout): Dropout(p=0.1, inplace=False)\n",
       "          )\n",
       "        )\n",
       "        (9): BertLayer(\n",
       "          (attention): BertAttention(\n",
       "            (self): BertSelfAttention(\n",
       "              (query): Linear(in_features=768, out_features=768, bias=True)\n",
       "              (key): Linear(in_features=768, out_features=768, bias=True)\n",
       "              (value): Linear(in_features=768, out_features=768, bias=True)\n",
       "              (dropout): Dropout(p=0.1, inplace=False)\n",
       "            )\n",
       "            (output): BertSelfOutput(\n",
       "              (dense): Linear(in_features=768, out_features=768, bias=True)\n",
       "              (LayerNorm): LayerNorm((768,), eps=1e-12, elementwise_affine=True)\n",
       "              (dropout): Dropout(p=0.1, inplace=False)\n",
       "            )\n",
       "          )\n",
       "          (intermediate): BertIntermediate(\n",
       "            (dense): Linear(in_features=768, out_features=3072, bias=True)\n",
       "          )\n",
       "          (output): BertOutput(\n",
       "            (dense): Linear(in_features=3072, out_features=768, bias=True)\n",
       "            (LayerNorm): LayerNorm((768,), eps=1e-12, elementwise_affine=True)\n",
       "            (dropout): Dropout(p=0.1, inplace=False)\n",
       "          )\n",
       "        )\n",
       "        (10): BertLayer(\n",
       "          (attention): BertAttention(\n",
       "            (self): BertSelfAttention(\n",
       "              (query): Linear(in_features=768, out_features=768, bias=True)\n",
       "              (key): Linear(in_features=768, out_features=768, bias=True)\n",
       "              (value): Linear(in_features=768, out_features=768, bias=True)\n",
       "              (dropout): Dropout(p=0.1, inplace=False)\n",
       "            )\n",
       "            (output): BertSelfOutput(\n",
       "              (dense): Linear(in_features=768, out_features=768, bias=True)\n",
       "              (LayerNorm): LayerNorm((768,), eps=1e-12, elementwise_affine=True)\n",
       "              (dropout): Dropout(p=0.1, inplace=False)\n",
       "            )\n",
       "          )\n",
       "          (intermediate): BertIntermediate(\n",
       "            (dense): Linear(in_features=768, out_features=3072, bias=True)\n",
       "          )\n",
       "          (output): BertOutput(\n",
       "            (dense): Linear(in_features=3072, out_features=768, bias=True)\n",
       "            (LayerNorm): LayerNorm((768,), eps=1e-12, elementwise_affine=True)\n",
       "            (dropout): Dropout(p=0.1, inplace=False)\n",
       "          )\n",
       "        )\n",
       "        (11): BertLayer(\n",
       "          (attention): BertAttention(\n",
       "            (self): BertSelfAttention(\n",
       "              (query): Linear(in_features=768, out_features=768, bias=True)\n",
       "              (key): Linear(in_features=768, out_features=768, bias=True)\n",
       "              (value): Linear(in_features=768, out_features=768, bias=True)\n",
       "              (dropout): Dropout(p=0.1, inplace=False)\n",
       "            )\n",
       "            (output): BertSelfOutput(\n",
       "              (dense): Linear(in_features=768, out_features=768, bias=True)\n",
       "              (LayerNorm): LayerNorm((768,), eps=1e-12, elementwise_affine=True)\n",
       "              (dropout): Dropout(p=0.1, inplace=False)\n",
       "            )\n",
       "          )\n",
       "          (intermediate): BertIntermediate(\n",
       "            (dense): Linear(in_features=768, out_features=3072, bias=True)\n",
       "          )\n",
       "          (output): BertOutput(\n",
       "            (dense): Linear(in_features=3072, out_features=768, bias=True)\n",
       "            (LayerNorm): LayerNorm((768,), eps=1e-12, elementwise_affine=True)\n",
       "            (dropout): Dropout(p=0.1, inplace=False)\n",
       "          )\n",
       "        )\n",
       "      )\n",
       "    )\n",
       "    (pooler): BertPooler(\n",
       "      (dense): Linear(in_features=768, out_features=768, bias=True)\n",
       "      (activation): Tanh()\n",
       "    )\n",
       "  )\n",
       "  (dropout): Dropout(p=0.1, inplace=False)\n",
       "  (classifier): Linear(in_features=768, out_features=2, bias=True)\n",
       ")"
      ]
     },
     "execution_count": 38,
     "metadata": {},
     "output_type": "execute_result"
    }
   ],
   "source": [
    "classifier.cuda() # tell pytorch to run this model in GPU"
   ]
  },
  {
   "cell_type": "code",
   "execution_count": 39,
   "metadata": {},
   "outputs": [],
   "source": [
    "# Creating optimizer and learning rate scheduler\n",
    "# Optimizer updates the weights:\n",
    "optimizer = AdamW(classifier.parameters(),\n",
    "                 lr = 2e-5, \n",
    "                 eps= 1e-8)\n",
    "#Scheduler handles the learning rate decay:\n",
    "from transformers import get_linear_schedule_with_warmup\n",
    "epochs = 4\n",
    "total_steps = len(train_dataloader)*epochs\n",
    "scheduler = get_linear_schedule_with_warmup(optimizer, num_warmup_steps=0, num_training_steps=total_steps)"
   ]
  },
  {
   "cell_type": "code",
   "execution_count": 40,
   "metadata": {},
   "outputs": [],
   "source": [
    "#Helper function for calculating accuracy\n",
    "import numpy as np\n",
    "def flat_accuracy(preds,labels):\n",
    "    pred_flat = np.argmax(preds,axis=1).flatten()\n",
    "    labels_flat = labels.flatten()\n",
    "    return np.sum(pred_flat == labels_flat)/(len(labels_flat))\n"
   ]
  },
  {
   "cell_type": "code",
   "execution_count": 41,
   "metadata": {},
   "outputs": [],
   "source": [
    "#Helper function for formatting elapsed times\n",
    "import time\n",
    "import datetime\n",
    "\n",
    "def format_time(elapsed):\n",
    "    elapsed_rounded = int(round(elapsed))\n",
    "    return str(datetime.timedelta(seconds=elapsed_rounded))\n"
   ]
  },
  {
   "cell_type": "markdown",
   "metadata": {},
   "source": [
    "Actual Training"
   ]
  },
  {
   "cell_type": "code",
   "execution_count": 42,
   "metadata": {},
   "outputs": [],
   "source": [
    "#Set random values to get reproducibility\n",
    "import random\n",
    "seed_val = 42\n",
    "\n",
    "random.seed(seed_val)\n",
    "np.random.seed(seed_val)\n",
    "torch.manual_seed(seed_val)\n",
    "torch.cuda.manual_seed_all(seed_val)"
   ]
  },
  {
   "cell_type": "code",
   "execution_count": 43,
   "metadata": {},
   "outputs": [
    {
     "name": "stdout",
     "output_type": "stream",
     "text": [
      "\n",
      "###### Epoch 1/4 ########\n",
      "Training\n",
      "   Batch 40 of 481. Elapsed: 0:01:45   \n",
      "   Batch 80 of 481. Elapsed: 0:03:30   \n",
      "   Batch 120 of 481. Elapsed: 0:05:14   \n",
      "   Batch 160 of 481. Elapsed: 0:06:59   \n",
      "   Batch 200 of 481. Elapsed: 0:08:44   \n",
      "   Batch 240 of 481. Elapsed: 0:10:28   \n",
      "   Batch 280 of 481. Elapsed: 0:12:13   \n",
      "   Batch 320 of 481. Elapsed: 0:13:58   \n",
      "   Batch 360 of 481. Elapsed: 0:15:42   \n",
      "   Batch 400 of 481. Elapsed: 0:17:27   \n",
      "   Batch 440 of 481. Elapsed: 0:19:11   \n",
      "   Batch 480 of 481. Elapsed: 0:20:56   \n",
      "\n",
      "   Average training loss: 0.4912922078755194\n",
      "   Training epoch took: 1258.6191229820251\n",
      "\n",
      "Running validation...\n",
      "Accuracy: 0.8032407407407407\n",
      "Validation time: 31.767547369003296\n",
      "\n",
      "###### Epoch 2/4 ########\n",
      "Training\n",
      "   Batch 40 of 481. Elapsed: 0:01:44   \n",
      "   Batch 80 of 481. Elapsed: 0:03:29   \n",
      "   Batch 120 of 481. Elapsed: 0:05:14   \n",
      "   Batch 160 of 481. Elapsed: 0:06:58   \n",
      "   Batch 200 of 481. Elapsed: 0:08:43   \n",
      "   Batch 240 of 481. Elapsed: 0:10:28   \n",
      "   Batch 280 of 481. Elapsed: 0:12:13   \n",
      "   Batch 320 of 481. Elapsed: 0:13:58   \n",
      "   Batch 360 of 481. Elapsed: 0:15:43   \n",
      "   Batch 400 of 481. Elapsed: 0:17:27   \n",
      "   Batch 440 of 481. Elapsed: 0:19:12   \n",
      "   Batch 480 of 481. Elapsed: 0:20:57   \n",
      "\n",
      "   Average training loss: 0.29173104459586363\n",
      "   Training epoch took: 1259.5361368656158\n",
      "\n",
      "Running validation...\n",
      "Accuracy: 0.8148148148148148\n",
      "Validation time: 31.678513765335083\n",
      "\n",
      "###### Epoch 3/4 ########\n",
      "Training\n",
      "   Batch 40 of 481. Elapsed: 0:01:44   \n",
      "   Batch 80 of 481. Elapsed: 0:03:28   \n",
      "   Batch 120 of 481. Elapsed: 0:05:13   \n",
      "   Batch 160 of 481. Elapsed: 0:06:57   \n",
      "   Batch 200 of 481. Elapsed: 0:08:42   \n",
      "   Batch 240 of 481. Elapsed: 0:10:26   \n",
      "   Batch 280 of 481. Elapsed: 0:12:11   \n",
      "   Batch 320 of 481. Elapsed: 0:13:57   \n",
      "   Batch 360 of 481. Elapsed: 0:15:42   \n",
      "   Batch 400 of 481. Elapsed: 0:17:26   \n",
      "   Batch 440 of 481. Elapsed: 0:19:10   \n",
      "   Batch 480 of 481. Elapsed: 0:20:55   \n",
      "\n",
      "   Average training loss: 0.17953349523664514\n",
      "   Training epoch took: 1257.1571881771088\n",
      "\n",
      "Running validation...\n",
      "Accuracy: 0.8217592592592593\n",
      "Validation time: 31.669404983520508\n",
      "\n",
      "###### Epoch 4/4 ########\n",
      "Training\n",
      "   Batch 40 of 481. Elapsed: 0:01:44   \n",
      "   Batch 80 of 481. Elapsed: 0:03:28   \n",
      "   Batch 120 of 481. Elapsed: 0:05:11   \n",
      "   Batch 160 of 481. Elapsed: 0:06:55   \n",
      "   Batch 200 of 481. Elapsed: 0:08:39   \n",
      "   Batch 240 of 481. Elapsed: 0:10:23   \n",
      "   Batch 280 of 481. Elapsed: 0:12:06   \n",
      "   Batch 320 of 481. Elapsed: 0:13:53   \n",
      "   Batch 360 of 481. Elapsed: 0:15:44   \n",
      "   Batch 400 of 481. Elapsed: 0:17:35   \n",
      "   Batch 440 of 481. Elapsed: 0:19:26   \n",
      "   Batch 480 of 481. Elapsed: 0:21:18   \n",
      "\n",
      "   Average training loss: 0.11012249683918675\n",
      "   Training epoch took: 1281.0943267345428\n",
      "\n",
      "Running validation...\n",
      "Accuracy: 0.8310185185185185\n",
      "Validation time: 35.3659131526947\n",
      "------Training complete------\n"
     ]
    }
   ],
   "source": [
    "#Store average loss value for showing in graph later\n",
    "loss_values=[]\n",
    "\n",
    "#For each epoch\n",
    "for epoch_i in range(0,epochs):\n",
    "    print('')\n",
    "    print(f'###### Epoch {epoch_i +1 }/{epochs} ########')\n",
    "    print('Training')\n",
    "    \n",
    "    t0 = time.time() # start timer\n",
    "    total_loss = 0 # reset total loss for each epoch\n",
    "    \n",
    "    classifier.train() # put the model in training mode\n",
    "    \n",
    "    #For each batch of training data\n",
    "    #Actual batch training loop\n",
    "    \n",
    "    for step, batch in enumerate(train_dataloader):\n",
    "        \n",
    "        #Provide progress update every 40 batches\n",
    "        if step % 40 == 0 and not step == 0:\n",
    "            elapsed = format_time(time.time()-t0)            \n",
    "            print(f'   Batch {step} of {len(train_dataloader)}. Elapsed: {elapsed}   ')\n",
    "        \n",
    "        #Next step, unpack training batch from dataloader\n",
    "        #Each batch contains 3 tensors: [0] input_ids, [1] attention masks, [2] labels\n",
    "        #Each tensor gets copied to the GPU with .to(device)\n",
    "        \n",
    "        b_input_ids = batch[0].to(device) \n",
    "        b_input_mask = batch[1].to(device)\n",
    "        b_labels = batch[2].to(device)        \n",
    "        \n",
    "        #Clear the gradients, otherwise per default for RNN gradients are accumulated, which is not desired here\n",
    "        \n",
    "        classifier.zero_grad()\n",
    "        \n",
    "        #Perform a forward pass, i.e. evaluate model on the training batch\n",
    "        #More info on model function in: https://huggingface.co/transformers/v2.2.0/model_doc/bert.html\n",
    "        \n",
    "        outputs = classifier(b_input_ids,\n",
    "                       token_type_ids = None,\n",
    "                       attention_mask = b_input_mask,\n",
    "                       labels = b_labels) # because we add the labels vector, output will return loss\n",
    "        \n",
    "        loss = outputs[0]\n",
    "        \n",
    "        total_loss += loss.item() # loss is actually a single value in the tensor\n",
    "        \n",
    "        # Perform backward pass to calculate gradients\n",
    "        loss.backward()\n",
    "        \n",
    "        #Gradient clipping for preventing 'exploding gradients'\n",
    "        torch.nn.utils.clip_grad_norm_(classifier.parameters(),1.0)\n",
    "        \n",
    "        #Optimizer makes adjustment to the weights, according to gradients\n",
    "        optimizer.step()\n",
    "        \n",
    "        #Update the learning rate, i.e. apply decay rate\n",
    "        scheduler.step()\n",
    "        \n",
    "    #Average training loss\n",
    "    avg_train_loss = total_loss / len(train_dataloader)\n",
    "    \n",
    "    #Store in list for later plotting\n",
    "    loss_values.append(avg_train_loss)\n",
    "    \n",
    "    print('')\n",
    "    print(f'   Average training loss: {avg_train_loss}')\n",
    "    print(f'   Training epoch took: {time.time()-t0}')\n",
    "          \n",
    "    print('')\n",
    "    print('Running validation...')\n",
    "          \n",
    "    t0 = time.time()\n",
    "    \n",
    "    classifier.eval() #set model to evalutation mode, drop out layers in BERT behave differently\n",
    "          \n",
    "    eval_loss, eval_accuracy = 0,0\n",
    "    nb_eval_steps, nb_eval_examples = 0,0\n",
    "        \n",
    "    #Evaluate for each epoch, i.e. run the model as is on the validation set\n",
    "    for batch in validation_dataloader:\n",
    "        \n",
    "        batch = tuple(t.to(device) for t in batch)\n",
    "          \n",
    "        b_input_ids, b_input_mask, b_labels = batch\n",
    "          \n",
    "        with torch.no_grad():\n",
    "              outputs = classifier(b_input_ids,\n",
    "                                   token_type_ids = None,\n",
    "                                   attention_mask = b_input_mask) \n",
    "              # because we add no labels vector, output will return logits, i.e. results\n",
    "        \n",
    "        logits = outputs[0] # logits are the outputs prior to applying the activation function\n",
    "                \n",
    "        #Move logits to CPU\n",
    "        \n",
    "        logits = logits.detach().cpu().numpy()\n",
    "        label_ids = b_labels.to('cpu').numpy()\n",
    "          \n",
    "        #Calculate the accuracy for this batch of test\n",
    "        tmp_eval_accuracy = flat_accuracy(logits,label_ids)\n",
    "          \n",
    "        eval_accuracy += tmp_eval_accuracy\n",
    "          \n",
    "        nb_eval_steps += 1\n",
    "    \n",
    "    print(f'Accuracy: {eval_accuracy/nb_eval_steps}')\n",
    "    print(f'Validation time: {time.time()-t0}') \n",
    "    \n",
    "print(\"------Training complete------\")\n",
    "          "
   ]
  },
  {
   "cell_type": "markdown",
   "metadata": {},
   "source": [
    "#### Plotting average training loss "
   ]
  },
  {
   "cell_type": "code",
   "execution_count": 58,
   "metadata": {},
   "outputs": [],
   "source": [
    "import matplotlib.pyplot as plt\n",
    "%matplotlib inline\n",
    "import seaborn as sns"
   ]
  },
  {
   "cell_type": "code",
   "execution_count": 64,
   "metadata": {},
   "outputs": [],
   "source": [
    "sns.set(style='darkgrid',font_scale=1.5)"
   ]
  },
  {
   "cell_type": "code",
   "execution_count": 67,
   "metadata": {},
   "outputs": [
    {
     "data": {
      "image/png": "[encoded data removed]",
      "text/plain": [
       "<Figure size 864x432 with 1 Axes>"
      ]
     },
     "metadata": {},
     "output_type": "display_data"
    }
   ],
   "source": [
    "plt.rcParams['figure.figsize'] = (12,6)\n",
    "plt.plot(loss_values,'b-o')\n",
    "plt.title('Average Training Loss')\n",
    "plt.xlabel('Epoch')\n",
    "plt.ylabel('Loss')\n",
    "plt.show()"
   ]
  },
  {
   "cell_type": "markdown",
   "metadata": {},
   "source": [
    "#### Evaluating the classifier model on the test set provided by the CoLA dataset"
   ]
  },
  {
   "cell_type": "code",
   "execution_count": 68,
   "metadata": {},
   "outputs": [
    {
     "name": "stdout",
     "output_type": "stream",
     "text": [
      "Original: Somebody just left - guess who.\n",
      "Tokenized: ['somebody', 'just', 'left', '-', 'guess', 'who', '.']\n",
      "Encoded: [101, 8307, 2074, 2187, 1011, 3984, 2040, 1012, 102]\n"
     ]
    }
   ],
   "source": [
    "# Access data and pass to numpy arrays, same as with training dataset\n",
    "import pandas as pd\n",
    "df = pd.read_csv('./cola_public/raw/out_of_domain_dev.tsv', sep='\\t', header=None, names=['sentence_source','label','label_notes','sentence'])\n",
    "sentences = df.sentence.values\n",
    "labels = df.label.values\n",
    "print(f\"Original: {sentences[0]}\")\n",
    "print(f\"Tokenized: {T_tokenizer.tokenize(sentences[0])}\")\n",
    "print(f\"Encoded: {T_tokenizer.encode(sentences[0])}\")"
   ]
  },
  {
   "cell_type": "code",
   "execution_count": 69,
   "metadata": {},
   "outputs": [],
   "source": [
    "#Creating input_ids and attention_masks\n",
    "input_ids=[]\n",
    "for sent in sentences:\n",
    "    encoded_sent = T_tokenizer.encode(sent,add_special_tokens=True,max_length=64,pad_to_max_length=True)\n",
    "    input_ids.append(encoded_sent)\n",
    "attention_masks = []\n",
    "for sent in input_ids:\n",
    "    att_mask = [int(token_id > 0) for token_id in sent]\n",
    "    attention_masks.append(att_mask)"
   ]
  },
  {
   "cell_type": "code",
   "execution_count": 71,
   "metadata": {},
   "outputs": [],
   "source": [
    "# Convert into torch tensors\n",
    "prediction_inputs = torch.tensor(input_ids)\n",
    "prediction_labels = torch.tensor(labels)\n",
    "prediction_masks = torch.tensor(attention_masks)"
   ]
  },
  {
   "cell_type": "code",
   "execution_count": 72,
   "metadata": {},
   "outputs": [],
   "source": [
    "#Create dataloader\n",
    "batch_size = 16\n",
    "\n",
    "prediction_data = TensorDataset(prediction_inputs,prediction_masks,prediction_labels)\n",
    "prediction_sampler = RandomSampler(prediction_data)\n",
    "prediction_dataloader = DataLoader(prediction_data, sampler=prediction_sampler, batch_size=batch_size)"
   ]
  },
  {
   "cell_type": "code",
   "execution_count": 74,
   "metadata": {},
   "outputs": [
    {
     "name": "stdout",
     "output_type": "stream",
     "text": [
      "\n",
      "Predicting labels for 516 test sentences\n",
      "Prediction time: 0:00:04\n",
      "Prediction time: 0:00:05\n",
      "Prediction time: 0:00:06\n",
      "Prediction time: 0:00:07\n",
      "Prediction time: 0:00:08\n",
      "Prediction time: 0:00:09\n",
      "Prediction time: 0:00:10\n",
      "Prediction time: 0:00:11\n",
      "Prediction time: 0:00:12\n",
      "Prediction time: 0:00:13\n",
      "Prediction time: 0:00:14\n",
      "Prediction time: 0:00:15\n",
      "Prediction time: 0:00:16\n",
      "Prediction time: 0:00:17\n",
      "Prediction time: 0:00:18\n",
      "Prediction time: 0:00:19\n",
      "Prediction time: 0:00:20\n",
      "Prediction time: 0:00:21\n",
      "Prediction time: 0:00:22\n",
      "Prediction time: 0:00:23\n",
      "Prediction time: 0:00:24\n",
      "Prediction time: 0:00:25\n",
      "Prediction time: 0:00:26\n",
      "Prediction time: 0:00:27\n",
      "Prediction time: 0:00:28\n",
      "Prediction time: 0:00:29\n",
      "Prediction time: 0:00:30\n",
      "Prediction time: 0:00:31\n",
      "Prediction time: 0:00:32\n",
      "Prediction time: 0:00:33\n",
      "Prediction time: 0:00:34\n",
      "Prediction time: 0:00:35\n",
      "Prediction time: 0:00:36\n",
      "------Prediction complete------\n"
     ]
    }
   ],
   "source": [
    "#Prediction on dataset\n",
    "\n",
    "print('')\n",
    "print(f'Predicting labels for {len(prediction_inputs)} test sentences')\n",
    "          \n",
    "t0 = time.time()\n",
    "    \n",
    "classifier.eval() #set model to evalutation mode, drop out layers in BERT behave differently\n",
    "          \n",
    "predictions, true_labels = [],[]\n",
    "        \n",
    "#Predict\n",
    "for batch in prediction_dataloader:\n",
    "    \n",
    "    batch = tuple(t.to(device) for t in batch)\n",
    "          \n",
    "    b_input_ids, b_input_mask, b_labels = batch\n",
    "          \n",
    "    with torch.no_grad():\n",
    "        \n",
    "        outputs = classifier(b_input_ids,\n",
    "                             token_type_ids = None,\n",
    "                             attention_mask = b_input_mask) \n",
    "          # because we add no labels vector, output will return logits, i.e. results\n",
    "        \n",
    "    logits = outputs[0] # logits are the outputs prior to applying the activation function\n",
    "                \n",
    "    #Move logits to CPU\n",
    "        \n",
    "    logits = logits.detach().cpu().numpy()\n",
    "    label_ids = b_labels.to('cpu').numpy()\n",
    "          \n",
    "    #Store predictions and true labels\n",
    "    predictions.append(logits)\n",
    "    true_labels.append(label_ids)\n",
    "        \n",
    "    print(f'Prediction time: {format_time(time.time()-t0)}') \n",
    "    \n",
    "print(\"------Prediction complete------\")"
   ]
  },
  {
   "cell_type": "code",
   "execution_count": 75,
   "metadata": {},
   "outputs": [],
   "source": [
    "from sklearn import metrics"
   ]
  },
  {
   "cell_type": "code",
   "execution_count": 91,
   "metadata": {},
   "outputs": [
    {
     "name": "stdout",
     "output_type": "stream",
     "text": [
      "Positive samples: 354 of 516 (0.686046511627907)\n"
     ]
    }
   ],
   "source": [
    "print(f'Positive samples: {df.label.sum()} of {len(df.label)} ({df.label.sum()/len(df.label)})')"
   ]
  },
  {
   "cell_type": "code",
   "execution_count": 93,
   "metadata": {},
   "outputs": [
    {
     "name": "stdout",
     "output_type": "stream",
     "text": [
      "Calculating Matthew Corr Coeff for each batch...\n"
     ]
    },
    {
     "name": "stderr",
     "output_type": "stream",
     "text": [
      "d:\\ai_lab\\lib\\site-packages\\sklearn\\metrics\\_classification.py:900: RuntimeWarning: invalid value encountered in double_scalars\n",
      "  mcc = cov_ytyp / np.sqrt(cov_ytyt * cov_ypyp)\n"
     ]
    }
   ],
   "source": [
    "print('Calculating Matthew Corr Coeff for each batch...')\n",
    "matthews_set = []\n",
    "\n",
    "for i in range(len(true_labels)):\n",
    "    pred_labels_i = np.argmax(predictions[i],axis=1).flatten()\n",
    "    matthews = metrics.matthews_corrcoef(true_labels[i],pred_labels_i)\n",
    "    matthews_set.append(matthews)"
   ]
  },
  {
   "cell_type": "code",
   "execution_count": 95,
   "metadata": {},
   "outputs": [
    {
     "data": {
      "text/plain": [
       "[0.3333333333333333,\n",
       " 0.4472135954999579,\n",
       " 0.5606119105813882,\n",
       " 1.0,\n",
       " 0.5606119105813882,\n",
       " 0.8320502943378436,\n",
       " 0.7333333333333333,\n",
       " 0.4622501635210242,\n",
       " 0.4622501635210242,\n",
       " 0.0,\n",
       " 0.8563488385776753,\n",
       " 0.5606119105813882,\n",
       " 0.38297084310253526,\n",
       " 0.42857142857142855,\n",
       " 0.3133397807202561,\n",
       " 0.2219167619785609,\n",
       " 0.40451991747794525,\n",
       " 0.6831300510639732,\n",
       " 0.4622501635210242,\n",
       " 0.7745966692414834,\n",
       " 0.6180700462007377,\n",
       " 0.3133397807202561,\n",
       " 0.5897435897435898,\n",
       " 0.0,\n",
       " 1.0,\n",
       " 0.7090909090909091,\n",
       " 0.5447047794019222,\n",
       " 0.4472135954999579,\n",
       " 0.15289415743128767,\n",
       " 0.7125253031944253,\n",
       " -0.09759000729485333,\n",
       " 0.5897435897435898,\n",
       " 0.0]"
      ]
     },
     "execution_count": 95,
     "metadata": {},
     "output_type": "execute_result"
    }
   ],
   "source": [
    "matthews_set"
   ]
  },
  {
   "cell_type": "code",
   "execution_count": 99,
   "metadata": {},
   "outputs": [],
   "source": [
    "#Combine predictions and labels into single list\n",
    "flat_predictions = [item for sublist in predictions for item in sublist]\n",
    "flat_predictions = np.argmax(flat_predictions,axis=1).flatten()\n",
    "\n",
    "flat_true_labels = [item for sublist in true_labels for item in sublist]\n",
    "\n",
    "mcc = metrics.matthews_corrcoef(flat_true_labels, flat_predictions)"
   ]
  },
  {
   "cell_type": "code",
   "execution_count": 103,
   "metadata": {},
   "outputs": [
    {
     "name": "stdout",
     "output_type": "stream",
     "text": [
      "MCC: 0.519\n"
     ]
    }
   ],
   "source": [
    "print('MCC: %.3f' %mcc)"
   ]
  }
 ],
 "metadata": {
  "kernelspec": {
   "display_name": "Python 3",
   "language": "python",
   "name": "python3"
  },
  "language_info": {
   "codemirror_mode": {
    "name": "ipython",
    "version": 3
   },
   "file_extension": ".py",
   "mimetype": "text/x-python",
   "name": "python",
   "nbconvert_exporter": "python",
   "pygments_lexer": "ipython3",
   "version": "3.7.6"
  }
 },
 "nbformat": 4,
 "nbformat_minor": 4
}
