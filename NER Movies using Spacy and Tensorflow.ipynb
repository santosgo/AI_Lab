{
 "cells": [
  {
   "cell_type": "markdown",
   "metadata": {},
   "source": [
    "# NER Movies using Spacy and Tensorflow"
   ]
  },
  {
   "cell_type": "markdown",
   "metadata": {},
   "source": [
    "## 1. Install and import required libraries "
   ]
  },
  {
   "cell_type": "code",
   "execution_count": 1,
   "metadata": {},
   "outputs": [],
   "source": [
    "#import sys\n",
    "#!{sys.executable} -m pip install spacy # !{sys.executable} ensures package installation in conda env"
   ]
  },
  {
   "cell_type": "code",
   "execution_count": 2,
   "metadata": {},
   "outputs": [],
   "source": [
    "import spacy\n",
    "import random\n",
    "import time\n",
    "import numpy as np\n",
    "from spacy.util import minibatch, compounding"
   ]
  },
  {
   "cell_type": "code",
   "execution_count": 3,
   "metadata": {},
   "outputs": [],
   "source": [
    "from os import path, mkdir"
   ]
  },
  {
   "cell_type": "markdown",
   "metadata": {},
   "source": [
    "## 2. Create folders"
   ]
  },
  {
   "cell_type": "code",
   "execution_count": 4,
   "metadata": {},
   "outputs": [
    {
     "name": "stdout",
     "output_type": "stream",
     "text": [
      "data folder already exists\n",
      "models folder already exists\n"
     ]
    }
   ],
   "source": [
    "if not path.isdir('data/'):\n",
    "    mkdir('data/')\n",
    "else:\n",
    "    print('data folder already exists')\n",
    "if not path.isdir('models/'):\n",
    "    mkdir('models/')\n",
    "else:\n",
    "    print('models folder already exists')"
   ]
  },
  {
   "cell_type": "markdown",
   "metadata": {},
   "source": [
    "## 3. Download dataset "
   ]
  },
  {
   "cell_type": "code",
   "execution_count": 5,
   "metadata": {},
   "outputs": [
    {
     "name": "stderr",
     "output_type": "stream",
     "text": [
      "  % Total    % Received % Xferd  Average Speed   Time    Time     Time  Current\n",
      "                                 Dload  Upload   Total   Spent    Left  Speed\n",
      "\n",
      "  0     0    0     0    0     0      0      0 --:--:-- --:--:-- --:--:--     0\n",
      "  0     0    0     0    0     0      0      0 --:--:-- --:--:-- --:--:--     0\n",
      "  0  246k    0     0    0     0      0      0 --:--:--  0:00:01 --:--:--     0\n",
      " 19  246k   19 49152    0     0  24576      0  0:00:10  0:00:02  0:00:08 23294\n",
      " 51  246k   51  128k    0     0  43690      0  0:00:05  0:00:03  0:00:02 40516\n",
      " 64  246k   64  160k    0     0  40960      0  0:00:06  0:00:04  0:00:02 35302\n",
      " 97  246k   97  240k    0     0  49152      0  0:00:05  0:00:05 --:--:-- 47813\n",
      "100  246k  100  246k    0     0  50527      0  0:00:05  0:00:05 --:--:-- 65196\n",
      "  % Total    % Received % Xferd  Average Speed   Time    Time     Time  Current\n",
      "                                 Dload  Upload   Total   Spent    Left  Speed\n",
      "\n",
      "  0     0    0     0    0     0      0      0 --:--:-- --:--:-- --:--:--     0\n",
      "  0     0    0     0    0     0      0      0 --:--:--  0:00:01 --:--:--     0\n",
      "  0     0    0     0    0     0      0      0 --:--:--  0:00:02 --:--:--     0\n",
      "  0     0    0     0    0     0      0      0 --:--:--  0:00:02 --:--:--     0\n",
      "  8  989k    8 81920    0     0  27306      0  0:00:37  0:00:03  0:00:34 22698\n",
      " 11  989k   11  112k    0     0  28672      0  0:00:35  0:00:04  0:00:31 24797\n",
      " 14  989k   14  144k    0     0  24576      0  0:00:41  0:00:06  0:00:35 29675\n",
      " 14  989k   14  144k    0     0  21065      0  0:00:48  0:00:07  0:00:41 29675\n",
      " 16  989k   16  160k    0     0  23405      0  0:00:43  0:00:07  0:00:36 32264\n",
      " 21  989k   21  208k    0     0  26624      0  0:00:38  0:00:08  0:00:30 26711\n",
      " 25  989k   25  256k    0     0  29127      0  0:00:34  0:00:09  0:00:25 29958\n",
      " 33  989k   33  336k    0     0  34406      0  0:00:29  0:00:10  0:00:19 45426\n",
      " 37  989k   37  368k    0     0  34257      0  0:00:29  0:00:11  0:00:18 54174\n",
      " 46  989k   46  464k    0     0  39594      0  0:00:25  0:00:12  0:00:13 63245\n",
      " 56  989k   56  560k    0     0  44110      0  0:00:22  0:00:13  0:00:09 71873\n",
      " 66  989k   66  656k    0     0  47981      0  0:00:21  0:00:14  0:00:07 81658\n",
      " 75  989k   75  752k    0     0  51336      0  0:00:19  0:00:15  0:00:04 84925\n",
      " 88  989k   88  880k    0     0  56320      0  0:00:17  0:00:16  0:00:01   99k\n",
      "100  989k  100  989k    0     0  59617      0  0:00:17  0:00:17 --:--:--  107k\n"
     ]
    }
   ],
   "source": [
    "!curl https://groups.csail.mit.edu/sls/downloads/movie/engtest.bio -o data/test.txt\n",
    "!curl https://groups.csail.mit.edu/sls/downloads/movie/engtrain.bio -o data/train.txt"
   ]
  },
  {
   "cell_type": "markdown",
   "metadata": {},
   "source": [
    "## 4. Parsing and transforming the input data into the required format for spaCy "
   ]
  },
  {
   "cell_type": "code",
   "execution_count": 6,
   "metadata": {},
   "outputs": [],
   "source": [
    "def load_data_spacy(file_path):\n",
    "    ''' Converts data from:\n",
    "    label \\t word \\n label \\t word \\n \\n label \\t word\n",
    "    to: sentence, {entities : [(start, end, label), (stard, end, label)]}\n",
    "    '''\n",
    "    file = open(file_path, 'r')\n",
    "    training_data, entities, sentence, unique_labels = [], [], [], []\n",
    "    current_annotation = None\n",
    "    end = 0 # initialize counter to keep track of start and end characters\n",
    "    for line in file:\n",
    "        line = line.strip(\"\\n\").split(\"\\t\")\n",
    "        # lines with len > 1 are words\n",
    "        if len(line) > 1:\n",
    "            label = line[0][2:]     # the .txt is formatted: label \\t word, label[0:2] = label_type\n",
    "            label_type = line[0][0] # beginning of annotations - \"B\", intermediate - \"I\"\n",
    "            word = line[1]\n",
    "            sentence.append(word)\n",
    "            end += (len(word) + 1)  # length of the word + trailing space\n",
    "           \n",
    "            if label_type != 'I' and current_annotation:  # if at the end of an annotation\n",
    "                entities.append((start, end - 2 - len(word), current_annotation))  # append the annotation\n",
    "                current_annotation = None                 # reset the annotation\n",
    "            if label_type == 'B':                         # if beginning new annotation\n",
    "                start = end - len(word) - 1  # start annotation at beginning of word\n",
    "                current_annotation = label   # append the word to the current annotation\n",
    "            if label_type == 'I':            # if the annotation is multi-word\n",
    "                current_annotation = label   # append the word\n",
    "           \n",
    "            if label != 'O' and label not in unique_labels:\n",
    "                unique_labels.append(label)\n",
    " \n",
    "        # lines with len == 1 are breaks between sentences\n",
    "        if len(line) == 1:\n",
    "            if current_annotation:\n",
    "                entities.append((start, end - 1, current_annotation))\n",
    "            sentence = \" \".join(sentence)\n",
    "            training_data.append([sentence, {'entities' : entities}])\n",
    "            # reset the counters and temporary lists\n",
    "            end = 0            \n",
    "            entities, sentence = [], []\n",
    "            current_annotation = None\n",
    "    file.close()\n",
    "    return training_data, unique_labels            \n",
    "           \n",
    "TRAIN_DATA, LABELS = load_data_spacy(\"data/train.txt\")"
   ]
  },
  {
   "cell_type": "code",
   "execution_count": 7,
   "metadata": {},
   "outputs": [
    {
     "data": {
      "text/plain": [
       "['show me films with drew barrymore from the 1980s',\n",
       " 'what movies starred both al pacino and robert deniro',\n",
       " 'find me all of the movies that starred harold ramis and bill murray',\n",
       " 'find me a movie with a quote about baseball in it',\n",
       " 'what movies have mississippi in the title',\n",
       " 'show me science fiction films directed by steven spielberg',\n",
       " 'do you have any thrillers directed by sofia coppola',\n",
       " 'what leonard cohen songs have been used in a movie',\n",
       " 'show me films elvis films set in hawaii']"
      ]
     },
     "execution_count": 7,
     "metadata": {},
     "output_type": "execute_result"
    }
   ],
   "source": [
    "[x[0] for x in TRAIN_DATA[1:10]]"
   ]
  },
  {
   "cell_type": "code",
   "execution_count": 8,
   "metadata": {},
   "outputs": [
    {
     "data": {
      "text/plain": [
       "[{'entities': [(19, 33, 'ACTOR'), (43, 48, 'YEAR')]},\n",
       " {'entities': [(25, 34, 'ACTOR'), (39, 52, 'ACTOR')]},\n",
       " {'entities': [(39, 51, 'ACTOR'), (56, 67, 'ACTOR')]},\n",
       " {'entities': []},\n",
       " {'entities': [(17, 28, 'TITLE')]},\n",
       " {'entities': [(8, 29, 'GENRE'), (42, 58, 'DIRECTOR')]},\n",
       " {'entities': [(16, 25, 'GENRE'), (38, 51, 'DIRECTOR')]},\n",
       " {'entities': [(5, 24, 'SONG')]},\n",
       " {'entities': [(14, 19, 'ACTOR'), (26, 39, 'PLOT')]}]"
      ]
     },
     "execution_count": 8,
     "metadata": {},
     "output_type": "execute_result"
    }
   ],
   "source": [
    "[x[1] for x in TRAIN_DATA[1:10]]"
   ]
  },
  {
   "cell_type": "code",
   "execution_count": 9,
   "metadata": {},
   "outputs": [
    {
     "data": {
      "text/plain": [
       "9775"
      ]
     },
     "execution_count": 9,
     "metadata": {},
     "output_type": "execute_result"
    }
   ],
   "source": [
    "len(TRAIN_DATA)"
   ]
  },
  {
   "cell_type": "code",
   "execution_count": 10,
   "metadata": {},
   "outputs": [
    {
     "data": {
      "text/html": [
       "<div class=\"entities\" style=\"line-height: 2.5; direction: ltr\">are there any good romantic comedies out right now</div>"
      ],
      "text/plain": [
       "<IPython.core.display.HTML object>"
      ]
     },
     "metadata": {},
     "output_type": "display_data"
    },
    {
     "data": {
      "text/html": [
       "<div class=\"entities\" style=\"line-height: 2.5; direction: ltr\">show me a movie about cars that talk</div>"
      ],
      "text/plain": [
       "<IPython.core.display.HTML object>"
      ]
     },
     "metadata": {},
     "output_type": "display_data"
    },
    {
     "data": {
      "text/html": [
       "<div class=\"entities\" style=\"line-height: 2.5; direction: ltr\">list the \n",
       "<mark class=\"entity\" style=\"background: #e4e7d2; padding: 0.45em 0.6em; margin: 0 0.25em; line-height: 1; border-radius: 0.35em;\">\n",
       "    five\n",
       "    <span style=\"font-size: 0.8em; font-weight: bold; line-height: 1; border-radius: 0.35em; text-transform: uppercase; vertical-align: middle; margin-left: 0.5rem\">CARDINAL</span>\n",
       "</mark>\n",
       " star rated movies starring \n",
       "<mark class=\"entity\" style=\"background: #aa9cfc; padding: 0.45em 0.6em; margin: 0 0.25em; line-height: 1; border-radius: 0.35em;\">\n",
       "    mel gibson\n",
       "    <span style=\"font-size: 0.8em; font-weight: bold; line-height: 1; border-radius: 0.35em; text-transform: uppercase; vertical-align: middle; margin-left: 0.5rem\">PERSON</span>\n",
       "</mark>\n",
       "</div>"
      ],
      "text/plain": [
       "<IPython.core.display.HTML object>"
      ]
     },
     "metadata": {},
     "output_type": "display_data"
    },
    {
     "data": {
      "text/html": [
       "<div class=\"entities\" style=\"line-height: 2.5; direction: ltr\">what science fiction films have come out recently</div>"
      ],
      "text/plain": [
       "<IPython.core.display.HTML object>"
      ]
     },
     "metadata": {},
     "output_type": "display_data"
    },
    {
     "data": {
      "text/html": [
       "<div class=\"entities\" style=\"line-height: 2.5; direction: ltr\">did the same director make all of the harry potter movies</div>"
      ],
      "text/plain": [
       "<IPython.core.display.HTML object>"
      ]
     },
     "metadata": {},
     "output_type": "display_data"
    },
    {
     "data": {
      "text/html": [
       "<div class=\"entities\" style=\"line-height: 2.5; direction: ltr\">show me \n",
       "<mark class=\"entity\" style=\"background: #bfe1d9; padding: 0.45em 0.6em; margin: 0 0.25em; line-height: 1; border-radius: 0.35em;\">\n",
       "    1980s\n",
       "    <span style=\"font-size: 0.8em; font-weight: bold; line-height: 1; border-radius: 0.35em; text-transform: uppercase; vertical-align: middle; margin-left: 0.5rem\">DATE</span>\n",
       "</mark>\n",
       " action movies</div>"
      ],
      "text/plain": [
       "<IPython.core.display.HTML object>"
      ]
     },
     "metadata": {},
     "output_type": "display_data"
    },
    {
     "data": {
      "text/html": [
       "<div class=\"entities\" style=\"line-height: 2.5; direction: ltr\">what is the name of the \n",
       "<mark class=\"entity\" style=\"background: #e4e7d2; padding: 0.45em 0.6em; margin: 0 0.25em; line-height: 1; border-radius: 0.35em;\">\n",
       "    third\n",
       "    <span style=\"font-size: 0.8em; font-weight: bold; line-height: 1; border-radius: 0.35em; text-transform: uppercase; vertical-align: middle; margin-left: 0.5rem\">ORDINAL</span>\n",
       "</mark>\n",
       " movie in the star trek series</div>"
      ],
      "text/plain": [
       "<IPython.core.display.HTML object>"
      ]
     },
     "metadata": {},
     "output_type": "display_data"
    },
    {
     "data": {
      "text/html": [
       "<div class=\"entities\" style=\"line-height: 2.5; direction: ltr\">can you get a soundtrac for the harry potter films</div>"
      ],
      "text/plain": [
       "<IPython.core.display.HTML object>"
      ]
     },
     "metadata": {},
     "output_type": "display_data"
    },
    {
     "data": {
      "text/html": [
       "<div class=\"entities\" style=\"line-height: 2.5; direction: ltr\">find me science fiction movies since \n",
       "<mark class=\"entity\" style=\"background: #bfe1d9; padding: 0.45em 0.6em; margin: 0 0.25em; line-height: 1; border-radius: 0.35em;\">\n",
       "    2005\n",
       "    <span style=\"font-size: 0.8em; font-weight: bold; line-height: 1; border-radius: 0.35em; text-transform: uppercase; vertical-align: middle; margin-left: 0.5rem\">DATE</span>\n",
       "</mark>\n",
       "</div>"
      ],
      "text/plain": [
       "<IPython.core.display.HTML object>"
      ]
     },
     "metadata": {},
     "output_type": "display_data"
    },
    {
     "data": {
      "text/html": [
       "<div class=\"entities\" style=\"line-height: 2.5; direction: ltr\">what is the most current movie featuring mat damon</div>"
      ],
      "text/plain": [
       "<IPython.core.display.HTML object>"
      ]
     },
     "metadata": {},
     "output_type": "display_data"
    },
    {
     "data": {
      "text/html": [
       "<div class=\"entities\" style=\"line-height: 2.5; direction: ltr\">show me films where \n",
       "<mark class=\"entity\" style=\"background: #aa9cfc; padding: 0.45em 0.6em; margin: 0 0.25em; line-height: 1; border-radius: 0.35em;\">\n",
       "    jim carrey\n",
       "    <span style=\"font-size: 0.8em; font-weight: bold; line-height: 1; border-radius: 0.35em; text-transform: uppercase; vertical-align: middle; margin-left: 0.5rem\">PERSON</span>\n",
       "</mark>\n",
       " is a detective</div>"
      ],
      "text/plain": [
       "<IPython.core.display.HTML object>"
      ]
     },
     "metadata": {},
     "output_type": "display_data"
    },
    {
     "data": {
      "text/html": [
       "<div class=\"entities\" style=\"line-height: 2.5; direction: ltr\">did \n",
       "<mark class=\"entity\" style=\"background: #aa9cfc; padding: 0.45em 0.6em; margin: 0 0.25em; line-height: 1; border-radius: 0.35em;\">\n",
       "    george clooney\n",
       "    <span style=\"font-size: 0.8em; font-weight: bold; line-height: 1; border-radius: 0.35em; text-transform: uppercase; vertical-align: middle; margin-left: 0.5rem\">PERSON</span>\n",
       "</mark>\n",
       " make a musical in \n",
       "<mark class=\"entity\" style=\"background: #bfe1d9; padding: 0.45em 0.6em; margin: 0 0.25em; line-height: 1; border-radius: 0.35em;\">\n",
       "    the 1980s\n",
       "    <span style=\"font-size: 0.8em; font-weight: bold; line-height: 1; border-radius: 0.35em; text-transform: uppercase; vertical-align: middle; margin-left: 0.5rem\">DATE</span>\n",
       "</mark>\n",
       "</div>"
      ],
      "text/plain": [
       "<IPython.core.display.HTML object>"
      ]
     },
     "metadata": {},
     "output_type": "display_data"
    },
    {
     "data": {
      "text/html": [
       "<div class=\"entities\" style=\"line-height: 2.5; direction: ltr\">show me films with both \n",
       "<mark class=\"entity\" style=\"background: #aa9cfc; padding: 0.45em 0.6em; margin: 0 0.25em; line-height: 1; border-radius: 0.35em;\">\n",
       "    matt damon\n",
       "    <span style=\"font-size: 0.8em; font-weight: bold; line-height: 1; border-radius: 0.35em; text-transform: uppercase; vertical-align: middle; margin-left: 0.5rem\">PERSON</span>\n",
       "</mark>\n",
       " ad \n",
       "<mark class=\"entity\" style=\"background: #aa9cfc; padding: 0.45em 0.6em; margin: 0 0.25em; line-height: 1; border-radius: 0.35em;\">\n",
       "    ben affleck\n",
       "    <span style=\"font-size: 0.8em; font-weight: bold; line-height: 1; border-radius: 0.35em; text-transform: uppercase; vertical-align: middle; margin-left: 0.5rem\">PERSON</span>\n",
       "</mark>\n",
       "</div>"
      ],
      "text/plain": [
       "<IPython.core.display.HTML object>"
      ]
     },
     "metadata": {},
     "output_type": "display_data"
    },
    {
     "data": {
      "text/html": [
       "<div class=\"entities\" style=\"line-height: 2.5; direction: ltr\">what is the borrowers movie</div>"
      ],
      "text/plain": [
       "<IPython.core.display.HTML object>"
      ]
     },
     "metadata": {},
     "output_type": "display_data"
    },
    {
     "data": {
      "text/html": [
       "<div class=\"entities\" style=\"line-height: 2.5; direction: ltr\">have u movie hm about to pg \n",
       "<mark class=\"entity\" style=\"background: #e4e7d2; padding: 0.45em 0.6em; margin: 0 0.25em; line-height: 1; border-radius: 0.35em;\">\n",
       "    18\n",
       "    <span style=\"font-size: 0.8em; font-weight: bold; line-height: 1; border-radius: 0.35em; text-transform: uppercase; vertical-align: middle; margin-left: 0.5rem\">CARDINAL</span>\n",
       "</mark>\n",
       "</div>"
      ],
      "text/plain": [
       "<IPython.core.display.HTML object>"
      ]
     },
     "metadata": {},
     "output_type": "display_data"
    }
   ],
   "source": [
    "from spacy import displacy\n",
    "import warnings\n",
    "warnings.filterwarnings(\"ignore\")\n",
    "nlp = spacy.load('en')\n",
    "TEST_DATA, _ = load_data_spacy(\"data/test.txt\")\n",
    "\n",
    "test_sentences = [x[0] for x in TEST_DATA[0:15]] # extract the sentences from [sentence, entity]\n",
    "for x in test_sentences:\n",
    "    doc = nlp(x)\n",
    "    displacy.render(doc, jupyter = True, style = \"ent\")\n",
    "warnings.filterwarnings(\"default\")"
   ]
  },
  {
   "cell_type": "markdown",
   "metadata": {},
   "source": [
    "## 5. Train and save custom NER model "
   ]
  },
  {
   "cell_type": "code",
   "execution_count": null,
   "metadata": {},
   "outputs": [],
   "source": [
    "# A simple decorator to log function processing time\n",
    "def timer(method):\n",
    "    def timed(*args, **kw):\n",
    "        ts = time.time()\n",
    "        result = method(*args, **kw)\n",
    "        te = time.time()\n",
    "        print(\"Completed in {} seconds\".format(int(te - ts)))\n",
    "        return result\n",
    "    return timed\n",
    "\n",
    "# Data must be of the form (sentence, {entities: [start, end, label]})\n",
    "@timer\n",
    "def train_spacy(train_data, labels, iterations, dropout = 0, display_freq = 1):\n",
    "    ''' Train a spacy NER model, which can be queried against with test data\n",
    "   \n",
    "    train_data : training data in the format of (sentence, {entities: [(start, end, label)]})\n",
    "    labels : a list of unique annotations\n",
    "    iterations : number of training iterations\n",
    "    dropout : dropout proportion for training\n",
    "    display_freq : number of epochs between logging losses to console\n",
    "    '''\n",
    "    nlp = spacy.blank('en')\n",
    "    if 'ner' not in nlp.pipe_names:\n",
    "        ner = nlp.create_pipe('ner')\n",
    "        nlp.add_pipe(ner)\n",
    "   \n",
    "    # Add entity labels to the NER pipeline\n",
    "    for i in labels:\n",
    "        ner.add_label(i)\n",
    "\n",
    "    # Disable other pipelines in SpaCy to only train NER\n",
    "    other_pipes = [pipe for pipe in nlp.pipe_names if pipe != 'ner']\n",
    "    with nlp.disable_pipes(*other_pipes):\n",
    "        nlp.vocab.vectors.name = 'spacy_model' # without this, spaCy throws an \"unnamed\" error\n",
    "        optimizer = nlp.begin_training()\n",
    "        \n",
    "        for itr in range(iterations):\n",
    "            random.shuffle(train_data) # shuffle the training data before each iteration\n",
    "            losses = {}\n",
    "            batches = minibatch(train_data, size = compounding(4., 32., 1.001))\n",
    "            for batch in batches:\n",
    "                texts, annotations = zip(*batch)\n",
    "                nlp.update(          \n",
    "                    texts,\n",
    "                    annotations,\n",
    "                    drop = dropout,  \n",
    "                    sgd = optimizer,\n",
    "                    losses = losses)\n",
    "\n",
    "            if itr % display_freq == 0:\n",
    "                print(\"Iteration {} Loss: {} Percentage completed: {}\".format(itr + 1, losses, itr+1/iterations))\n",
    "    return nlp\n",
    "\n",
    "# Train (and save) the NER model\n",
    "ner = train_spacy(TRAIN_DATA,LABELS,50)\n",
    "ner.to_disk(\"models/spacy_example\")"
   ]
  },
  {
   "cell_type": "code",
   "execution_count": null,
   "metadata": {},
   "outputs": [],
   "source": [
    "from spacy import displacy\n",
    "\n",
    "def load_model(model_path):\n",
    "    ''' Loads a pre-trained model for prediction on new test sentences\n",
    "    \n",
    "    model_path : directory of model saved by spacy.to_disk\n",
    "    '''   \n",
    "    nlp = spacy.blank('en')\n",
    "    if 'ner' not in nlp.pipe_names:\n",
    "        ner = nlp.create_pipe('ner')\n",
    "        nlp.add_pipe(ner)\n",
    "    ner = nlp.from_disk(model_path)\n",
    "    return ner\n",
    "\n",
    "ner = load_model(\"models/spacy_example\")\n",
    "\n",
    "TEST_DATA, _ = load_data_spacy(\"data/test.txt\")\n",
    "\n",
    "test_sentences = [x[0] for x in TEST_DATA[0:15]] # extract the sentences from [sentence, entity]\n",
    "for x in test_sentences:\n",
    "    doc = ner(x)\n",
    "    displacy.render(doc, jupyter = True, style = \"ent\")"
   ]
  },
  {
   "cell_type": "code",
   "execution_count": null,
   "metadata": {},
   "outputs": [],
   "source": []
  }
 ],
 "metadata": {
  "kernelspec": {
   "display_name": "Python 3",
   "language": "python",
   "name": "python3"
  },
  "language_info": {
   "codemirror_mode": {
    "name": "ipython",
    "version": 3
   },
   "file_extension": ".py",
   "mimetype": "text/x-python",
   "name": "python",
   "nbconvert_exporter": "python",
   "pygments_lexer": "ipython3",
   "version": "3.7.6"
  }
 },
 "nbformat": 4,
 "nbformat_minor": 4
}
